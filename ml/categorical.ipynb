{
 "cells": [
  {
   "cell_type": "code",
   "execution_count": 42,
   "metadata": {},
   "outputs": [],
   "source": [
    "from sklearn.model_selection import train_test_split\n",
    "from sklearn.datasets import load_iris\n",
    "from sklearn.neighbors import KNeighborsClassifier, KNeighborsRegressor\n",
    "from sklearn.metrics import confusion_matrix\n",
    "from sklearn.metrics import classification_report\n",
    "from sklearn.metrics import mean_absolute_error\n",
    "from sklearn.pipeline import make_pipeline\n",
    "from sklearn.preprocessing import StandardScaler\n",
    "from sklearn.model_selection import GridSearchCV\n",
    "from sklearn.preprocessing import OneHotEncoder\n",
    "from sklearn.compose import ColumnTransformer\n",
    "\n",
    "import pandas as pd"
   ]
  },
  {
   "cell_type": "code",
   "execution_count": 43,
   "metadata": {},
   "outputs": [],
   "source": [
    "iris_data = load_iris(as_frame=True)\n",
    "df = pd.concat([iris_data.data,iris_data.target],axis=1)\n",
    "#df.target = df.target.astype('object')\n",
    "#pd.get_dummies(df)\n",
    "X = df.drop(columns=[\"sepal length (cm)\"])\n",
    "y = df[\"sepal length (cm)\"]\n",
    "X_train,X_test,y_train,y_test = train_test_split(X,y,\n",
    "                                    stratify=X[\"target\"],\n",
    "                                    train_size=.5,\n",
    "                                    random_state=8000)"
   ]
  },
  {
   "cell_type": "code",
   "execution_count": 58,
   "metadata": {},
   "outputs": [
    {
     "name": "stdout",
     "output_type": "stream",
     "text": [
      "['sepal width (cm)', 'petal length (cm)', 'petal width (cm)']\n"
     ]
    }
   ],
   "source": [
    "onehot = ColumnTransformer([(\"onehot\",OneHotEncoder(),[\"target\"])],\n",
    "                                remainder=\"passthrough\")\n",
    "columns = [x for x in X_train.columns if x!=\"target\"]\n",
    "scaler = ColumnTransformer([(\"scaler\",StandardScaler(),columns)],\n",
    "                                remainder=\"passthrough\")\n",
    "pipeline = make_pipeline(\n",
    "    scaler,\n",
    "    onehot,\n",
    "    KNeighborsRegressor())\n",
    "pipeline.get_params()\n",
    "\n"
   ]
  },
  {
   "cell_type": "code",
   "execution_count": null,
   "metadata": {},
   "outputs": [],
   "source": []
  },
  {
   "cell_type": "code",
   "execution_count": 45,
   "metadata": {},
   "outputs": [
    {
     "name": "stdout",
     "output_type": "stream",
     "text": [
      "0.2450666666666666 4.4 7.7\n"
     ]
    }
   ],
   "source": [
    "pipeline.fit(X_train,y_train)\n",
    "pipeline.score(X_train,y_train)\n",
    "mae = mean_absolute_error(pipeline.predict(X_train),y_train)\n",
    "print(mae,y_train.min(),y_train.max())"
   ]
  },
  {
   "cell_type": "code",
   "execution_count": 46,
   "metadata": {},
   "outputs": [
    {
     "data": {
      "text/plain": [
       "0.7918818420831126"
      ]
     },
     "execution_count": 46,
     "metadata": {},
     "output_type": "execute_result"
    }
   ],
   "source": [
    "pipeline.score(X_test,y_test)"
   ]
  },
  {
   "cell_type": "code",
   "execution_count": 56,
   "metadata": {},
   "outputs": [
    {
     "data": {
      "text/plain": [
       "0.9985495795161949"
      ]
     },
     "execution_count": 56,
     "metadata": {},
     "output_type": "execute_result"
    }
   ],
   "source": [
    "param_grid = {\n",
    "    'kneighborsregressor__n_neighbors': range(2,50),\n",
    "    'kneighborsregressor__weights': ['uniform','distance'],\n",
    "    'columntransformer__onehot__drop': [None,'first']\n",
    "}\n",
    "cv = GridSearchCV(pipeline,param_grid,cv=5,n_jobs=-1)\n",
    "cv.fit(X_train,y_train)\n",
    "cv.score(X_train,y_train)\n"
   ]
  },
  {
   "cell_type": "code",
   "execution_count": 53,
   "metadata": {},
   "outputs": [
    {
     "data": {
      "text/plain": [
       "0.8057849232351046"
      ]
     },
     "execution_count": 53,
     "metadata": {},
     "output_type": "execute_result"
    }
   ],
   "source": [
    "cv.score(X_test,y_test)"
   ]
  },
  {
   "cell_type": "code",
   "execution_count": null,
   "metadata": {},
   "outputs": [],
   "source": []
  }
 ],
 "metadata": {
  "interpreter": {
   "hash": "1ca1ac1ea075cdc502afe6a2ff9b9aa095f949cbd9c3edc29a23910b874a1c05"
  },
  "kernelspec": {
   "display_name": "Python 3.8.3 ('base')",
   "language": "python",
   "name": "python3"
  },
  "language_info": {
   "codemirror_mode": {
    "name": "ipython",
    "version": 3
   },
   "file_extension": ".py",
   "mimetype": "text/x-python",
   "name": "python",
   "nbconvert_exporter": "python",
   "pygments_lexer": "ipython3",
   "version": "3.8.3"
  },
  "orig_nbformat": 4
 },
 "nbformat": 4,
 "nbformat_minor": 2
}
