{
 "cells": [
  {
   "cell_type": "code",
   "execution_count": 6,
   "metadata": {},
   "outputs": [],
   "source": [
    "import sqlite3\n",
    "import pandas as pd"
   ]
  },
  {
   "cell_type": "code",
   "execution_count": 7,
   "metadata": {},
   "outputs": [],
   "source": [
    "def dbConnection():\n",
    "    return sqlite3.connect(\"data/example.db\")"
   ]
  },
  {
   "cell_type": "code",
   "execution_count": 5,
   "metadata": {},
   "outputs": [
    {
     "name": "stdout",
     "output_type": "stream",
     "text": [
      "[(1, 'Kyle', 'Johnsen'), (2, 'Andrew', 'Rukangu')]\n"
     ]
    }
   ],
   "source": [
    "#example of retrieving data from a sqlite database\n",
    "with dbConnection() as con:\n",
    "    cur = con.execute(\"SELECT id,first_name,last_name FROM person\")\n",
    "    print(cur.fetchall())"
   ]
  },
  {
   "cell_type": "code",
   "execution_count": null,
   "metadata": {},
   "outputs": [],
   "source": [
    "with dbConnection() as con:\n",
    "    "
   ]
  }
 ],
 "metadata": {
  "interpreter": {
   "hash": "1ca1ac1ea075cdc502afe6a2ff9b9aa095f949cbd9c3edc29a23910b874a1c05"
  },
  "kernelspec": {
   "display_name": "Python 3.8.3 ('base')",
   "language": "python",
   "name": "python3"
  },
  "language_info": {
   "codemirror_mode": {
    "name": "ipython",
    "version": 3
   },
   "file_extension": ".py",
   "mimetype": "text/x-python",
   "name": "python",
   "nbconvert_exporter": "python",
   "pygments_lexer": "ipython3",
   "version": "3.8.3"
  },
  "orig_nbformat": 4
 },
 "nbformat": 4,
 "nbformat_minor": 2
}
